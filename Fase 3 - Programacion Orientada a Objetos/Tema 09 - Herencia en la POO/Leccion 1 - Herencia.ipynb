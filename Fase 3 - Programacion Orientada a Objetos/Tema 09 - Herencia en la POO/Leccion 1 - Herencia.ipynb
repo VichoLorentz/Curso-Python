{
 "cells": [
  {
   "cell_type": "code",
   "execution_count": 3,
   "metadata": {},
   "outputs": [],
   "source": [
    "class Producto:\n",
    "    def __init__(self, referencia, tipo, nombre, pvp, descripcion, productor=None, distribuidor=None, isbn=None, autor=None):\n",
    "        self.referencia = referencia\n",
    "        self.tipo = tipo\n",
    "        self.nombre = nombre\n",
    "        self.pvp = pvp\n",
    "        self.descripcion = descripcion\n",
    "        self.productor = productor\n",
    "        self.distribuidor = distribuidor\n",
    "        self.isbn = isbn\n",
    "        self.autor = autor\n",
    "\n",
    "adorno = Producto('000A', 'Adorno', 'Vaso adornado', 15, 'Vaso de procelana con dibujos')"
   ]
  },
  {
   "cell_type": "code",
   "execution_count": 4,
   "metadata": {},
   "outputs": [
    {
     "data": {
      "text/plain": [
       "<__main__.Producto at 0x1aa946e2740>"
      ]
     },
     "execution_count": 4,
     "metadata": {},
     "output_type": "execute_result"
    }
   ],
   "source": [
    "adorno"
   ]
  },
  {
   "cell_type": "code",
   "execution_count": 5,
   "metadata": {},
   "outputs": [
    {
     "data": {
      "text/plain": [
       "'Adorno'"
      ]
     },
     "execution_count": 5,
     "metadata": {},
     "output_type": "execute_result"
    }
   ],
   "source": [
    "adorno.tipo"
   ]
  },
  {
   "cell_type": "code",
   "execution_count": 11,
   "metadata": {},
   "outputs": [],
   "source": [
    "class Producto:\n",
    "    def __init__(self, referencia, nombre, pvp, descripcion):\n",
    "        self.referencia = referencia\n",
    "        self.nombre = nombre\n",
    "        self.pvp = pvp\n",
    "        self.descripcion = descripcion\n",
    "    def __str__(self):\n",
    "        return f\"\"\"\\\n",
    "REFERENCIA\\t{self.referencia}\n",
    "NOMBRE\\t\\t{self.nombre}\n",
    "PVP\\t\\t{self.pvp}\n",
    "DESCRIPCION\\t{self.descripcion}\"\"\"\n",
    "class Adorno(Producto):\n",
    "    pass\n",
    "\n",
    "a = Adorno(2032,\"Vaso adornado\",15,\"Vaso de porcelana adornado con arboles\")"
   ]
  },
  {
   "cell_type": "code",
   "execution_count": 12,
   "metadata": {},
   "outputs": [
    {
     "name": "stdout",
     "output_type": "stream",
     "text": [
      "REFERENCIA\t2032\n",
      "NOMBRE\t\tVaso adornado\n",
      "PVP\t\t15\n",
      "DESCRIPCION\tVaso de porcelana adornado con arboles\n"
     ]
    }
   ],
   "source": [
    "print(a)"
   ]
  },
  {
   "cell_type": "code",
   "execution_count": 17,
   "metadata": {},
   "outputs": [
    {
     "name": "stdout",
     "output_type": "stream",
     "text": [
      "REFERENCIA\t2033\n",
      "NOMBRE\t\tAceite\n",
      "PVP\t\t5\n",
      "DESCRIPCION\t250mL\n",
      "PRODUCTOR\tLa aceitera\n",
      "DISTRIBUIDOR\tDistribuciones SA\n"
     ]
    }
   ],
   "source": [
    "class Alimento(Producto):\n",
    "    productor = \"\"\n",
    "    distribuidor = \"\"\n",
    "    def __str__(self):\n",
    "        return f\"\"\"\\\n",
    "REFERENCIA\\t{self.referencia}\n",
    "NOMBRE\\t\\t{self.nombre}\n",
    "PVP\\t\\t{self.pvp}\n",
    "DESCRIPCION\\t{self.descripcion}\n",
    "PRODUCTOR\\t{self.productor}\n",
    "DISTRIBUIDOR\\t{self.distribuidor}\"\"\"\n",
    "al = Alimento(2033, \"Aceite\",5,\"250mL\")\n",
    "al.productor=\"La aceitera\"\n",
    "al.distribuidor = \"Distribuciones SA\"\n",
    "print(al)"
   ]
  },
  {
   "cell_type": "code",
   "execution_count": 19,
   "metadata": {},
   "outputs": [
    {
     "name": "stdout",
     "output_type": "stream",
     "text": [
      "REFERENCIA\t2034\n",
      "NOMBRE\t\tCocina mediterranea\n",
      "PVP\t\t9\n",
      "DESCRIPCION\tRecetas sanas y buenas\n",
      "ISBN\t\t0-1234-56-7\n",
      "AUTOR\t\tVicho\n"
     ]
    }
   ],
   "source": [
    "class Libro(Producto):\n",
    "    isbn = \"\"\n",
    "    autor = \"\"\n",
    "    def __str__(self):\n",
    "        return f\"\"\"\\\n",
    "REFERENCIA\\t{self.referencia}\n",
    "NOMBRE\\t\\t{self.nombre}\n",
    "PVP\\t\\t{self.pvp}\n",
    "DESCRIPCION\\t{self.descripcion}\n",
    "ISBN\\t\\t{self.isbn}\n",
    "AUTOR\\t\\t{self.autor}\"\"\"\n",
    "    \n",
    "li = Libro (2034, \"Cocina mediterranea\",9,\"Recetas sanas y buenas\")\n",
    "li.isbn=(\"0-1234-56-7\")\n",
    "li.autor=(\"Vicho\")\n",
    "print(li)"
   ]
  }
 ],
 "metadata": {
  "kernelspec": {
   "display_name": "Python 3 (ipykernel)",
   "language": "python",
   "name": "python3"
  },
  "language_info": {
   "codemirror_mode": {
    "name": "ipython",
    "version": 3
   },
   "file_extension": ".py",
   "mimetype": "text/x-python",
   "name": "python",
   "nbconvert_exporter": "python",
   "pygments_lexer": "ipython3",
   "version": "3.10.5"
  }
 },
 "nbformat": 4,
 "nbformat_minor": 1
}
