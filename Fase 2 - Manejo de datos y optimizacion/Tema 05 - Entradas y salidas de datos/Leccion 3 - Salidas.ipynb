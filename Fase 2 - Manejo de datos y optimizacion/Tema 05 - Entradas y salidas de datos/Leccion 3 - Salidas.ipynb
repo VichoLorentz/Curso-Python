{
 "cells": [
  {
   "cell_type": "code",
   "execution_count": 1,
   "metadata": {},
   "outputs": [
    {
     "name": "stdout",
     "output_type": "stream",
     "text": [
      "Un texto Otro texto y un numero 10\n"
     ]
    }
   ],
   "source": [
    "v = \"Otro texto\"\n",
    "n = 10\n",
    "print (\"Un texto\", v, \"y un numero\", n)"
   ]
  },
  {
   "cell_type": "code",
   "execution_count": 3,
   "metadata": {},
   "outputs": [
    {
     "data": {
      "text/plain": [
       "'Un texto Otro texto y un numero 10'"
      ]
     },
     "execution_count": 3,
     "metadata": {},
     "output_type": "execute_result"
    }
   ],
   "source": [
    "c = \"Un texto {} y un numero {}\".format(v,n)\n",
    "c"
   ]
  },
  {
   "cell_type": "code",
   "execution_count": 4,
   "metadata": {},
   "outputs": [
    {
     "name": "stdout",
     "output_type": "stream",
     "text": [
      "Un texto Otro texto y un numero 10\n"
     ]
    }
   ],
   "source": [
    "print (c)"
   ]
  },
  {
   "cell_type": "code",
   "execution_count": 7,
   "metadata": {},
   "outputs": [
    {
     "name": "stdout",
     "output_type": "stream",
     "text": [
      "Un texto '10' y un numero 'Otro texto'\n"
     ]
    }
   ],
   "source": [
    "print(\"Un texto '{1}' y un numero '{0}'\".format(v,n))"
   ]
  },
  {
   "cell_type": "code",
   "execution_count": 8,
   "metadata": {},
   "outputs": [
    {
     "name": "stdout",
     "output_type": "stream",
     "text": [
      "Un texto 'Otro texto' y un numero '10'\n"
     ]
    }
   ],
   "source": [
    "print(\"Un texto '{texto}' y un numero '{numero}'\".format(texto= v,numero=n))"
   ]
  },
  {
   "cell_type": "code",
   "execution_count": 9,
   "metadata": {},
   "outputs": [
    {
     "name": "stdout",
     "output_type": "stream",
     "text": [
      "Otro texto,Otro texto,Otro texto\n"
     ]
    }
   ],
   "source": [
    "print(\"{v},{v},{v}\".format(v=v))"
   ]
  },
  {
   "cell_type": "code",
   "execution_count": 11,
   "metadata": {},
   "outputs": [
    {
     "name": "stdout",
     "output_type": "stream",
     "text": [
      "                       Palabra\n"
     ]
    }
   ],
   "source": [
    "print(\"{:>30}\".format(\"Palabra\")) #alineamiento a la derecha en 30 caracteres"
   ]
  },
  {
   "cell_type": "code",
   "execution_count": 13,
   "metadata": {},
   "outputs": [
    {
     "name": "stdout",
     "output_type": "stream",
     "text": [
      "Palabra                       \n"
     ]
    }
   ],
   "source": [
    "print(\"{:30}\".format(\"Palabra\")) #alineamiento a la izquierda en 30 caracteres"
   ]
  },
  {
   "cell_type": "code",
   "execution_count": 14,
   "metadata": {},
   "outputs": [
    {
     "name": "stdout",
     "output_type": "stream",
     "text": [
      "           Palabra            \n"
     ]
    }
   ],
   "source": [
    "print(\"{:^30}\".format(\"Palabra\")) #alineamiento al centro en 30 caracteres"
   ]
  },
  {
   "cell_type": "code",
   "execution_count": 16,
   "metadata": {},
   "outputs": [
    {
     "name": "stdout",
     "output_type": "stream",
     "text": [
      "Palab\n"
     ]
    }
   ],
   "source": [
    "print(\"{:.5}\".format(\"Palabra\")) #truncamiento a 3 caracteres"
   ]
  },
  {
   "cell_type": "code",
   "execution_count": 17,
   "metadata": {},
   "outputs": [
    {
     "name": "stdout",
     "output_type": "stream",
     "text": [
      "             Pal              \n"
     ]
    }
   ],
   "source": [
    "print(\"{:^30.3}\".format(\"Palabra\")) #alineamiento al centro en 30 caracteres con truncamiento a 3 caracteres"
   ]
  },
  {
   "cell_type": "code",
   "execution_count": 19,
   "metadata": {},
   "outputs": [
    {
     "name": "stdout",
     "output_type": "stream",
     "text": [
      "  10\n",
      " 100\n",
      "1000\n"
     ]
    }
   ],
   "source": [
    "#Formateo de numeros enteros, rellenados con espacios\n",
    "print(\"{:4d}\".format(10))\n",
    "print(\"{:4d}\".format(100))\n",
    "print(\"{:4d}\".format(1000))"
   ]
  },
  {
   "cell_type": "code",
   "execution_count": 20,
   "metadata": {},
   "outputs": [
    {
     "name": "stdout",
     "output_type": "stream",
     "text": [
      "0010\n",
      "0100\n",
      "1000\n"
     ]
    }
   ],
   "source": [
    "#Formateo de numeros enteros, rellenados con ceros\n",
    "print(\"{:04d}\".format(10))\n",
    "print(\"{:04d}\".format(100))\n",
    "print(\"{:04d}\".format(1000))"
   ]
  },
  {
   "cell_type": "code",
   "execution_count": 29,
   "metadata": {},
   "outputs": [
    {
     "name": "stdout",
     "output_type": "stream",
     "text": [
      "  3.142\n",
      "153.210\n"
     ]
    }
   ],
   "source": [
    "#Formateo de numeros flotantes, rellenados con espacios\n",
    "print(\"{:7.3f}\".format(3.1415926))\n",
    "print(\"{:7.3f}\".format(153.21))"
   ]
  },
  {
   "cell_type": "code",
   "execution_count": 30,
   "metadata": {},
   "outputs": [
    {
     "name": "stdout",
     "output_type": "stream",
     "text": [
      "003.142\n",
      "153.210\n"
     ]
    }
   ],
   "source": [
    "#Formateo de numeros flotantes, rellenados con ceros\n",
    "print(\"{:07.3f}\".format(3.1415926))\n",
    "print(\"{:07.3f}\".format(153.21))"
   ]
  }
 ],
 "metadata": {
  "kernelspec": {
   "display_name": "Python 3 (ipykernel)",
   "language": "python",
   "name": "python3"
  },
  "language_info": {
   "codemirror_mode": {
    "name": "ipython",
    "version": 3
   },
   "file_extension": ".py",
   "mimetype": "text/x-python",
   "name": "python",
   "nbconvert_exporter": "python",
   "pygments_lexer": "ipython3",
   "version": "3.9.5"
  }
 },
 "nbformat": 4,
 "nbformat_minor": 1
}
