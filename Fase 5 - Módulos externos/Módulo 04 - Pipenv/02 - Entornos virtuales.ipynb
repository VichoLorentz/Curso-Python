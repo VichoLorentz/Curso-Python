{
 "cells": [
  {
   "cell_type": "markdown",
   "id": "b6cd723f",
   "metadata": {},
   "source": [
    "# Entornos virtuales\n",
    "\n",
    "## Python y PIP\n",
    "\n",
    "Cuando ejecutamos Python generalmente lo hacemos a través del intérprete instalado en nuestro sistema, podemos consultar donde se encuentra ese entorno ejecutando una simple consulta en el módulo `sys`:"
   ]
  },
  {
   "cell_type": "code",
   "execution_count": 1,
   "id": "f41beffc",
   "metadata": {},
   "outputs": [
    {
     "data": {
      "text/plain": [
       "'C:\\\\Users\\\\vizio\\\\AppData\\\\Local\\\\Programs\\\\Python\\\\Python310\\\\python.exe'"
      ]
     },
     "execution_count": 1,
     "metadata": {},
     "output_type": "execute_result"
    }
   ],
   "source": [
    "import sys\n",
    "sys.executable"
   ]
  },
  {
   "cell_type": "markdown",
   "id": "8f113c2a",
   "metadata": {},
   "source": [
    "Podemos consultar la versión del intérprete desde una terminal:"
   ]
  },
  {
   "cell_type": "code",
   "execution_count": 2,
   "id": "61092833",
   "metadata": {},
   "outputs": [
    {
     "name": "stdout",
     "output_type": "stream",
     "text": [
      "Python 3.10.5\n"
     ]
    }
   ],
   "source": [
    "!python --version  # en su defecto utilizar python3"
   ]
  },
  {
   "cell_type": "markdown",
   "id": "c5fbb28b",
   "metadata": {},
   "source": [
    "El intérprete de Python tiene su propio gestor de paquetes llamado `pip`:"
   ]
  },
  {
   "cell_type": "code",
   "execution_count": 3,
   "id": "0974927c",
   "metadata": {},
   "outputs": [
    {
     "name": "stdout",
     "output_type": "stream",
     "text": [
      "pip 22.2 from C:\\Users\\vizio\\AppData\\Local\\Programs\\Python\\Python310\\lib\\site-packages\\pip (python 3.10)\n",
      "\n"
     ]
    }
   ],
   "source": [
    "!pip --version"
   ]
  },
  {
   "cell_type": "markdown",
   "id": "f525baab",
   "metadata": {},
   "source": [
    "Este gestor es un módulo, por eso se puede ejecutar como un módulo mediante el parámetro `-m`:"
   ]
  },
  {
   "cell_type": "code",
   "execution_count": 6,
   "id": "cc7a376c",
   "metadata": {},
   "outputs": [
    {
     "name": "stdout",
     "output_type": "stream",
     "text": [
      "pip 22.2.1 from C:\\Users\\vizio\\AppData\\Local\\Programs\\Python\\Python310\\lib\\site-packages\\pip (python 3.10)\n",
      "\n"
     ]
    }
   ],
   "source": [
    "!python -m pip --version"
   ]
  },
  {
   "cell_type": "markdown",
   "id": "ac6dd40a",
   "metadata": {},
   "source": [
    "Con esa lógica se puede actualizar como cualquier otro módulo del sistema:"
   ]
  },
  {
   "cell_type": "code",
   "execution_count": 5,
   "id": "3d75e3ba",
   "metadata": {},
   "outputs": [
    {
     "name": "stdout",
     "output_type": "stream",
     "text": [
      "Requirement already satisfied: pip in c:\\users\\vizio\\appdata\\local\\programs\\python\\python310\\lib\\site-packages (22.2)\n",
      "Collecting pip\n",
      "  Using cached pip-22.2.1-py3-none-any.whl (2.0 MB)\n",
      "Installing collected packages: pip\n",
      "  Attempting uninstall: pip\n",
      "    Found existing installation: pip 22.2\n",
      "    Uninstalling pip-22.2:\n",
      "      Successfully uninstalled pip-22.2\n",
      "Successfully installed pip-22.2.1\n"
     ]
    }
   ],
   "source": [
    "!python -m pip install --upgrade pip"
   ]
  },
  {
   "cell_type": "markdown",
   "id": "0e1fa403",
   "metadata": {},
   "source": [
    "Cada intérprete tiene asignado un solo un gestor de paquetes `pip`, eso significa que solo podemos instalar una versión de el mismo paquete:"
   ]
  },
  {
   "cell_type": "code",
   "execution_count": 7,
   "id": "79c9a68f",
   "metadata": {},
   "outputs": [
    {
     "name": "stdout",
     "output_type": "stream",
     "text": [
      "Package                   Version\n",
      "------------------------- -----------\n",
      "altgraph                  0.17.2\n",
      "argon2-cffi               21.3.0\n",
      "argon2-cffi-bindings      21.2.0\n",
      "asttokens                 2.0.5\n",
      "atomicwrites              1.4.1\n",
      "attrs                     21.4.0\n",
      "backcall                  0.2.0\n",
      "beautifulsoup4            4.11.1\n",
      "bleach                    5.0.1\n",
      "build                     0.8.0\n",
      "certifi                   2022.6.15\n",
      "cffi                      1.15.1\n",
      "charset-normalizer        2.1.0\n",
      "colorama                  0.4.5\n",
      "commonmark                0.9.1\n",
      "cycler                    0.11.0\n",
      "debugpy                   1.6.2\n",
      "decorator                 5.1.1\n",
      "defusedxml                0.7.1\n",
      "distlib                   0.3.5\n",
      "docutils                  0.19\n",
      "entrypoints               0.4\n",
      "et-xmlfile                1.1.0\n",
      "executing                 0.8.3\n",
      "fastjsonschema            2.15.3\n",
      "filelock                  3.7.1\n",
      "fonttools                 4.34.4\n",
      "future                    0.18.2\n",
      "idna                      3.3\n",
      "importlib-metadata        4.12.0\n",
      "iniconfig                 1.1.1\n",
      "ipykernel                 6.15.1\n",
      "ipython                   8.4.0\n",
      "ipython-genutils          0.2.0\n",
      "jedi                      0.18.1\n",
      "Jinja2                    3.1.2\n",
      "jsonschema                4.7.1\n",
      "jupyter-client            7.3.4\n",
      "jupyter-core              4.11.1\n",
      "jupyterlab-pygments       0.2.2\n",
      "keyring                   23.7.0\n",
      "kiwisolver                1.4.4\n",
      "lxml                      4.9.1\n",
      "MarkupSafe                2.1.1\n",
      "matplotlib                3.5.2\n",
      "matplotlib-inline         0.1.3\n",
      "Mensajes-VichoLorentz     5.0\n",
      "mistune                   0.8.4\n",
      "mouse                     0.7.1\n",
      "nbclient                  0.6.6\n",
      "nbconvert                 6.5.0\n",
      "nbformat                  5.4.0\n",
      "nest-asyncio              1.5.5\n",
      "notebook                  6.4.12\n",
      "numpy                     1.23.1\n",
      "openpyxl                  3.0.10\n",
      "packaging                 21.3\n",
      "pandas                    1.4.3\n",
      "pandocfilters             1.5.0\n",
      "parso                     0.8.3\n",
      "pefile                    2022.5.30\n",
      "pep517                    0.12.0\n",
      "pickleshare               0.7.5\n",
      "Pillow                    9.2.0\n",
      "pip                       22.2.1\n",
      "pipenv                    2022.7.24\n",
      "pkginfo                   1.8.3\n",
      "platformdirs              2.5.2\n",
      "pluggy                    1.0.0\n",
      "prometheus-client         0.14.1\n",
      "prompt-toolkit            3.0.30\n",
      "psutil                    5.9.1\n",
      "pure-eval                 0.2.2\n",
      "py                        1.11.0\n",
      "pycparser                 2.21\n",
      "Pygments                  2.12.0\n",
      "pyinstaller               5.2\n",
      "pyinstaller-hooks-contrib 2022.8\n",
      "pyparsing                 3.0.9\n",
      "pyrsistent                0.18.1\n",
      "pytest                    7.1.2\n",
      "python-dateutil           2.8.2\n",
      "pytz                      2022.1\n",
      "pywin32                   304\n",
      "pywin32-ctypes            0.2.0\n",
      "pywinpty                  2.0.6\n",
      "pyzmq                     23.2.0\n",
      "readme-renderer           35.0\n",
      "requests                  2.28.1\n",
      "requests-toolbelt         0.9.1\n",
      "rfc3986                   2.0.0\n",
      "rich                      12.5.1\n",
      "Send2Trash                1.8.0\n",
      "setuptools                58.1.0\n",
      "six                       1.16.0\n",
      "soupsieve                 2.3.2.post1\n",
      "stack-data                0.3.0\n",
      "terminado                 0.15.0\n",
      "tinycss2                  1.1.1\n",
      "tomli                     2.0.1\n",
      "tornado                   6.2\n",
      "traitlets                 5.3.0\n",
      "twine                     4.0.1\n",
      "urllib3                   1.26.10\n",
      "virtualenv                20.16.1\n",
      "virtualenv-clone          0.5.7\n",
      "wcwidth                   0.2.5\n",
      "webencodings              0.5.1\n",
      "zipp                      3.8.1\n"
     ]
    }
   ],
   "source": [
    "!pip list"
   ]
  },
  {
   "cell_type": "markdown",
   "id": "79522ea3",
   "metadata": {},
   "source": [
    "¿No estáis de acuerdo conmigo en que si desarrollamos diferentes proyectos, es posible que necesitemos versiones diferentes de un mismo paquete? \n",
    "\n",
    "Por ejemplo imaginad que empezamos un proyecto con la versión 1 de un paquete como dependencia y al poco lo actualizan a la 2. Sin embargo no podemos actualizarlo porque han cambiado cosas y el proyecto quedaría inservible. Si a eso le sumamos que paralelamente necesitamos instalar sí o sí la versión 2 para otro proyecto qué podemos hacer?\n",
    "\n",
    "## Entornos virtuales\n",
    "\n",
    "Los desarrolladores de `Python` son consicientes de este problema y por eso el intérprete incorpora un módulo interno  llamado `venv`:"
   ]
  },
  {
   "cell_type": "code",
   "execution_count": 8,
   "id": "8ac023ce",
   "metadata": {},
   "outputs": [
    {
     "name": "stdout",
     "output_type": "stream",
     "text": [
      "usage: venv [-h] [--system-site-packages] [--symlinks | --copies] [--clear]\n",
      "            [--upgrade] [--without-pip] [--prompt PROMPT] [--upgrade-deps]\n",
      "            ENV_DIR [ENV_DIR ...]\n",
      "\n",
      "Creates virtual Python environments in one or more target directories.\n",
      "\n",
      "positional arguments:\n",
      "  ENV_DIR               A directory to create the environment in.\n",
      "\n",
      "options:\n",
      "  -h, --help            show this help message and exit\n",
      "  --system-site-packages\n",
      "                        Give the virtual environment access to the system\n",
      "                        site-packages dir.\n",
      "  --symlinks            Try to use symlinks rather than copies, when symlinks\n",
      "                        are not the default for the platform.\n",
      "  --copies              Try to use copies rather than symlinks, even when\n",
      "                        symlinks are the default for the platform.\n",
      "  --clear               Delete the contents of the environment directory if it\n",
      "                        already exists, before environment creation.\n",
      "  --upgrade             Upgrade the environment directory to use this version\n",
      "                        of Python, assuming Python has been upgraded in-place.\n",
      "  --without-pip         Skips installing or upgrading pip in the virtual\n",
      "                        environment (pip is bootstrapped by default)\n",
      "  --prompt PROMPT       Provides an alternative prompt prefix for this\n",
      "                        environment.\n",
      "  --upgrade-deps        Upgrade core dependencies: pip setuptools to the\n",
      "                        latest version in PyPI\n",
      "\n",
      "Once an environment has been created, you may wish to activate it, e.g. by\n",
      "sourcing an activate script in its bin directory.\n"
     ]
    }
   ],
   "source": [
    "!python -m venv -h"
   ]
  },
  {
   "cell_type": "markdown",
   "id": "a93bc01e",
   "metadata": {},
   "source": [
    "Este módulo permite crear copias del **entorno nativo** de `Python` con su propio gestor `pip` llamadas **entornos virtuales**.\n",
    "\n",
    "Como manejar entornos virtuales con `venv` requiere mucho trabajo aprenderemos un módulo más moderno para hacer lo mismo y más:\n",
    "\n",
    "## Pipenv\n",
    "\n",
    "Tal como su nombre indica, `Pipenv` es `pip` + `venv`, un conjunto de funcionalidades que permite gestionar entornos virtuales y sus dependencias:"
   ]
  },
  {
   "cell_type": "code",
   "execution_count": 9,
   "id": "f9d81419",
   "metadata": {
    "scrolled": false
   },
   "outputs": [
    {
     "name": "stdout",
     "output_type": "stream",
     "text": [
      "Usage: python -m pipenv [OPTIONS] COMMAND [ARGS]...\n",
      "\n",
      "\n",
      "\n",
      "Options:\n",
      "\n",
      "  --where                         Output project home information.\n",
      "\n",
      "  --venv                          Output virtualenv information.\n",
      "\n",
      "  --py                            Output Python interpreter information.\n",
      "\n",
      "  --envs                          Output Environment Variable options.\n",
      "\n",
      "  --rm                            Remove the virtualenv.\n",
      "\n",
      "  --bare                          Minimal output.\n",
      "\n",
      "  --man                           Display manpage.\n",
      "\n",
      "  --support                       Output diagnostic information for use in\n",
      "\n",
      "                                  GitHub issues.\n",
      "\n",
      "  --site-packages / --no-site-packages\n",
      "\n",
      "                                  Enable site-packages for the virtualenv.\n",
      "\n",
      "                                  [env var: PIPENV_SITE_PACKAGES]\n",
      "\n",
      "  --python TEXT                   Specify which version of Python virtualenv\n",
      "\n",
      "                                  should use.\n",
      "\n",
      "  --three                         Use Python 3 when creating virtualenv.\n",
      "\n",
      "  --clear                         Clears caches (pipenv, pip).  [env var:\n",
      "\n",
      "                                  PIPENV_CLEAR]\n",
      "\n",
      "  -q, --quiet                     Quiet mode.\n",
      "\n",
      "  -v, --verbose                   Verbose mode.\n",
      "\n",
      "  --pypi-mirror TEXT              Specify a PyPI mirror.\n",
      "\n",
      "  --version                       Show the version and exit.\n",
      "\n",
      "  -h, --help                      Show this message and exit.\n",
      "\n",
      "\n",
      "\n",
      "\n",
      "\n",
      "Usage Examples:\n",
      "\n",
      "   Create a new project using Python 3.7, specifically:\n",
      "\n",
      "   $ pipenv --python 3.7\n",
      "\n",
      "\n",
      "\n",
      "   Remove project virtualenv (inferred from current directory):\n",
      "\n",
      "   $ pipenv --rm\n",
      "\n",
      "\n",
      "\n",
      "   Install all dependencies for a project (including dev):\n",
      "\n",
      "   $ pipenv install --dev\n",
      "\n",
      "\n",
      "\n",
      "   Create a lockfile containing pre-releases:\n",
      "\n",
      "   $ pipenv lock --pre\n",
      "\n",
      "\n",
      "\n",
      "   Show a graph of your installed dependencies:\n",
      "\n",
      "   $ pipenv graph\n",
      "\n",
      "\n",
      "\n",
      "   Check your installed dependencies for security vulnerabilities:\n",
      "\n",
      "   $ pipenv check\n",
      "\n",
      "\n",
      "\n",
      "   Install a local setup.py into your virtual environment/Pipfile:\n",
      "\n",
      "   $ pipenv install -e .\n",
      "\n",
      "\n",
      "\n",
      "   Use a lower-level pip command:\n",
      "\n",
      "   $ pipenv run pip freeze\n",
      "\n",
      "\n",
      "\n",
      "Commands:\n",
      "\n",
      "  check         Checks for PyUp Safety security vulnerabilities and against\n",
      "\n",
      "                PEP 508 markers provided in Pipfile.\n",
      "\n",
      "  clean         Uninstalls all packages not specified in Pipfile.lock.\n",
      "\n",
      "  graph         Displays currently-installed dependency graph information.\n",
      "\n",
      "  install       Installs provided packages and adds them to Pipfile, or (if no\n",
      "\n",
      "                packages are given), installs all packages from Pipfile.\n",
      "\n",
      "  lock          Generates Pipfile.lock.\n",
      "\n",
      "  open          View a given module in your editor.\n",
      "\n",
      "  requirements  Generate a requirements.txt from Pipfile.lock.\n",
      "\n",
      "  run           Spawns a command installed into the virtualenv.\n",
      "\n",
      "  scripts       Lists scripts in current environment config.\n",
      "\n",
      "  shell         Spawns a shell within the virtualenv.\n",
      "\n",
      "  sync          Installs all packages specified in Pipfile.lock.\n",
      "\n",
      "  uninstall     Uninstalls a provided package and removes it from Pipfile.\n",
      "\n",
      "  update        Runs lock, then sync.\n",
      "\n",
      "  verify        Verify the hash in Pipfile.lock is up-to-date.\n",
      "\n"
     ]
    }
   ],
   "source": [
    "!python -m pipenv -h"
   ]
  },
  {
   "cell_type": "markdown",
   "id": "e3ddb561",
   "metadata": {},
   "source": [
    "En la próxima lección vamos a aprender a utilizar `Pipenv` mediante la práctica creando nuestro primer entorno virtual."
   ]
  },
  {
   "cell_type": "code",
   "execution_count": null,
   "id": "29645b8f",
   "metadata": {},
   "outputs": [],
   "source": []
  }
 ],
 "metadata": {
  "kernelspec": {
   "display_name": "Python 3 (ipykernel)",
   "language": "python",
   "name": "python3"
  },
  "language_info": {
   "codemirror_mode": {
    "name": "ipython",
    "version": 3
   },
   "file_extension": ".py",
   "mimetype": "text/x-python",
   "name": "python",
   "nbconvert_exporter": "python",
   "pygments_lexer": "ipython3",
   "version": "3.10.5"
  }
 },
 "nbformat": 4,
 "nbformat_minor": 5
}
