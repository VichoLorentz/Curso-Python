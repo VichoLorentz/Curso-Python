{
 "cells": [
  {
   "cell_type": "markdown",
   "id": "2dd737d5",
   "metadata": {},
   "source": [
    "# Configuración previa\n",
    "\n",
    "Instalación de Pipenv  por si alguien no lo tiene:\n",
    "\n",
    "```bash\n",
    "pip install pipenv\n",
    "```\n",
    "\n",
    "También se puede instalar desde el propio Jupyter Notebook con una exclamación delante:\n",
    "\n",
    "\n",
    "```bash\n",
    "!pip install pipenv\n",
    "```"
   ]
  },
  {
   "cell_type": "code",
   "execution_count": 1,
   "id": "9858b7ce",
   "metadata": {},
   "outputs": [
    {
     "name": "stdout",
     "output_type": "stream",
     "text": [
      "Requirement already satisfied: pipenv in c:\\users\\vizio\\appdata\\local\\programs\\python\\python310\\lib\\site-packages (2022.7.24)\n",
      "Requirement already satisfied: pip>=22.0.4 in c:\\users\\vizio\\appdata\\local\\programs\\python\\python310\\lib\\site-packages (from pipenv) (22.2)\n",
      "Requirement already satisfied: virtualenv-clone>=0.2.5 in c:\\users\\vizio\\appdata\\local\\programs\\python\\python310\\lib\\site-packages (from pipenv) (0.5.7)\n",
      "Requirement already satisfied: certifi in c:\\users\\vizio\\appdata\\local\\programs\\python\\python310\\lib\\site-packages (from pipenv) (2022.6.15)\n",
      "Requirement already satisfied: setuptools>=36.2.1 in c:\\users\\vizio\\appdata\\local\\programs\\python\\python310\\lib\\site-packages (from pipenv) (58.1.0)\n",
      "Requirement already satisfied: virtualenv in c:\\users\\vizio\\appdata\\local\\programs\\python\\python310\\lib\\site-packages (from pipenv) (20.16.1)\n",
      "Requirement already satisfied: distlib<1,>=0.3.1 in c:\\users\\vizio\\appdata\\local\\programs\\python\\python310\\lib\\site-packages (from virtualenv->pipenv) (0.3.5)\n",
      "Requirement already satisfied: filelock<4,>=3.2 in c:\\users\\vizio\\appdata\\local\\programs\\python\\python310\\lib\\site-packages (from virtualenv->pipenv) (3.7.1)\n",
      "Requirement already satisfied: platformdirs<3,>=2 in c:\\users\\vizio\\appdata\\local\\programs\\python\\python310\\lib\\site-packages (from virtualenv->pipenv) (2.5.2)\n"
     ]
    }
   ],
   "source": [
    "!pip install pipenv"
   ]
  },
  {
   "cell_type": "code",
   "execution_count": null,
   "id": "ec5b0d8f",
   "metadata": {},
   "outputs": [],
   "source": []
  }
 ],
 "metadata": {
  "kernelspec": {
   "display_name": "Python 3 (ipykernel)",
   "language": "python",
   "name": "python3"
  },
  "language_info": {
   "codemirror_mode": {
    "name": "ipython",
    "version": 3
   },
   "file_extension": ".py",
   "mimetype": "text/x-python",
   "name": "python",
   "nbconvert_exporter": "python",
   "pygments_lexer": "ipython3",
   "version": "3.10.5"
  }
 },
 "nbformat": 4,
 "nbformat_minor": 5
}
