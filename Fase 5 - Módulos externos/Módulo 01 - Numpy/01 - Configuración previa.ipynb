{
 "cells": [
  {
   "cell_type": "markdown",
   "id": "b6181a16",
   "metadata": {},
   "source": [
    "# Configuración previa\n",
    "\n",
    "El análisis de datos básico en Python se realiza utilizando tres bibliotecas que se complementan perfectamente entre ellas:\n",
    "\n",
    "- **NumPy**: Para manejar **arrays**.\n",
    "- **Pandas**: Para manejar **dataframes**.\n",
    "- **Matplotlib**: Para visualizar **gráficos**.\n",
    "\n",
    "Son externas a Python por lo que tenemos que instalarlas para poder utilizarlas:\n",
    "\n",
    "```bash\n",
    "pip install numpy pandas matplotlib\n",
    "```\n",
    "\n",
    "También se puede instalar desde el propio `Jupyter Notebook` con una exclamación delante:\n",
    "\n",
    "```bash\n",
    "!pip install numpy pandas matplotlib\n",
    "```\n",
    "\n",
    "Tardará un rato en ejecutar la celda pero veremos el resultado:"
   ]
  },
  {
   "cell_type": "code",
   "execution_count": 1,
   "id": "a5143f90",
   "metadata": {},
   "outputs": [
    {
     "name": "stdout",
     "output_type": "stream",
     "text": [
      "Requirement already satisfied: numpy in c:\\users\\vizio\\appdata\\local\\programs\\python\\python310\\lib\\site-packages (1.23.1)\n",
      "Collecting pandas\n",
      "  Downloading pandas-1.4.3-cp310-cp310-win_amd64.whl (10.5 MB)\n",
      "     --------------------------------------- 10.5/10.5 MB 93.8 MB/s eta 0:00:00\n",
      "Collecting matplotlib\n",
      "  Downloading matplotlib-3.5.2-cp310-cp310-win_amd64.whl (7.2 MB)\n",
      "     ---------------------------------------- 7.2/7.2 MB 92.2 MB/s eta 0:00:00\n",
      "Requirement already satisfied: python-dateutil>=2.8.1 in c:\\users\\vizio\\appdata\\local\\programs\\python\\python310\\lib\\site-packages (from pandas) (2.8.2)\n",
      "Requirement already satisfied: pytz>=2020.1 in c:\\users\\vizio\\appdata\\local\\programs\\python\\python310\\lib\\site-packages (from pandas) (2022.1)\n",
      "Collecting pillow>=6.2.0\n",
      "  Downloading Pillow-9.2.0-cp310-cp310-win_amd64.whl (3.3 MB)\n",
      "     ---------------------------------------- 3.3/3.3 MB 102.1 MB/s eta 0:00:00\n",
      "Collecting kiwisolver>=1.0.1\n",
      "  Downloading kiwisolver-1.4.4-cp310-cp310-win_amd64.whl (55 kB)\n",
      "     ---------------------------------------- 55.3/55.3 kB ? eta 0:00:00\n",
      "Collecting cycler>=0.10\n",
      "  Downloading cycler-0.11.0-py3-none-any.whl (6.4 kB)\n",
      "Requirement already satisfied: pyparsing>=2.2.1 in c:\\users\\vizio\\appdata\\local\\programs\\python\\python310\\lib\\site-packages (from matplotlib) (3.0.9)\n",
      "Requirement already satisfied: packaging>=20.0 in c:\\users\\vizio\\appdata\\local\\programs\\python\\python310\\lib\\site-packages (from matplotlib) (21.3)\n",
      "Collecting fonttools>=4.22.0\n",
      "  Downloading fonttools-4.34.4-py3-none-any.whl (944 kB)\n",
      "     ------------------------------------- 944.1/944.1 kB 62.3 MB/s eta 0:00:00\n",
      "Requirement already satisfied: six>=1.5 in c:\\users\\vizio\\appdata\\local\\programs\\python\\python310\\lib\\site-packages (from python-dateutil>=2.8.1->pandas) (1.16.0)\n",
      "Installing collected packages: pillow, kiwisolver, fonttools, cycler, pandas, matplotlib\n",
      "Successfully installed cycler-0.11.0 fonttools-4.34.4 kiwisolver-1.4.4 matplotlib-3.5.2 pandas-1.4.3 pillow-9.2.0\n"
     ]
    }
   ],
   "source": [
    "!pip install numpy pandas matplotlib"
   ]
  }
 ],
 "metadata": {
  "kernelspec": {
   "display_name": "Python 3 (ipykernel)",
   "language": "python",
   "name": "python3"
  },
  "language_info": {
   "codemirror_mode": {
    "name": "ipython",
    "version": 3
   },
   "file_extension": ".py",
   "mimetype": "text/x-python",
   "name": "python",
   "nbconvert_exporter": "python",
   "pygments_lexer": "ipython3",
   "version": "3.10.5"
  }
 },
 "nbformat": 4,
 "nbformat_minor": 5
}
