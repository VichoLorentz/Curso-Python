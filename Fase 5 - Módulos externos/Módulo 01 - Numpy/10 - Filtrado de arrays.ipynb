{
 "cells": [
  {
   "cell_type": "markdown",
   "id": "9c010793",
   "metadata": {},
   "source": [
    "# Filtrado de arrays\n",
    "\n",
    "En esta lección vamos a repasar algunas funciones para filtrar arrays. Para más información sobre las funciones disponibles no olvidéis pasaros por [la documentación oficial](https://numpy.org/doc/stable/reference/index.html).\n",
    "\n",
    "## Filtro unique\n",
    "\n",
    "Devuelve un array de una dimensión borrando todos los elementos duplicados:"
   ]
  },
  {
   "cell_type": "code",
   "execution_count": 1,
   "id": "6e563e51",
   "metadata": {},
   "outputs": [],
   "source": [
    "import numpy as np"
   ]
  },
  {
   "cell_type": "code",
   "execution_count": 2,
   "id": "ad83a2e8",
   "metadata": {},
   "outputs": [],
   "source": [
    "# generamos un array con números aleatorios repetidos\n",
    "arr = np.random.randint(0, 10, 40)"
   ]
  },
  {
   "cell_type": "code",
   "execution_count": 3,
   "id": "14ee58f3",
   "metadata": {},
   "outputs": [
    {
     "data": {
      "text/plain": [
       "array([4, 4, 0, 1, 9, 8, 4, 7, 2, 4, 2, 0, 5, 1, 6, 0, 4, 5, 7, 5, 6, 6,\n",
       "       8, 7, 5, 4, 5, 1, 2, 4, 0, 3, 8, 8, 3, 5, 0, 0, 9, 7])"
      ]
     },
     "execution_count": 3,
     "metadata": {},
     "output_type": "execute_result"
    }
   ],
   "source": [
    "arr"
   ]
  },
  {
   "cell_type": "code",
   "execution_count": 4,
   "id": "5747e126",
   "metadata": {},
   "outputs": [
    {
     "data": {
      "text/plain": [
       "array([0, 1, 2, 3, 4, 5, 6, 7, 8, 9])"
      ]
     },
     "execution_count": 4,
     "metadata": {},
     "output_type": "execute_result"
    }
   ],
   "source": [
    "# aplicamos el filtro unique\n",
    "np.unique(arr)"
   ]
  },
  {
   "cell_type": "markdown",
   "id": "30f4d980",
   "metadata": {},
   "source": [
    "## Filtro in1d\n",
    "\n",
    "Devuelve un array de una dimensión indicando si los elementos de una lista se encuentran en otro array:"
   ]
  },
  {
   "cell_type": "code",
   "execution_count": 5,
   "id": "55108e3d",
   "metadata": {},
   "outputs": [
    {
     "data": {
      "text/plain": [
       "array([False,  True,  True, False])"
      ]
     },
     "execution_count": 5,
     "metadata": {},
     "output_type": "execute_result"
    }
   ],
   "source": [
    "np.in1d([-1, 4, 8, 12], arr)"
   ]
  },
  {
   "cell_type": "markdown",
   "id": "2e870fee",
   "metadata": {},
   "source": [
    "## Filtro where\n",
    "\n",
    "Sirve para generar un array filtrado a partir de una condición y un valor por defecto:"
   ]
  },
  {
   "cell_type": "code",
   "execution_count": 6,
   "id": "26ae8b4b",
   "metadata": {},
   "outputs": [
    {
     "data": {
      "text/plain": [
       "array([[-4.75546581,  4.57143254],\n",
       "       [ 0.36289939,  2.85814251],\n",
       "       [ 2.44734089, -4.44542578]])"
      ]
     },
     "execution_count": 6,
     "metadata": {},
     "output_type": "execute_result"
    }
   ],
   "source": [
    "# generamos un array con números aleatorios\n",
    "arr_1 = np.random.uniform(-5, 5, size=[3,2])\n",
    "\n",
    "arr_1"
   ]
  },
  {
   "cell_type": "code",
   "execution_count": 7,
   "id": "26feffc3",
   "metadata": {},
   "outputs": [
    {
     "data": {
      "text/plain": [
       "array([[0.        , 4.57143254],\n",
       "       [0.36289939, 2.85814251],\n",
       "       [2.44734089, 0.        ]])"
      ]
     },
     "execution_count": 7,
     "metadata": {},
     "output_type": "execute_result"
    }
   ],
   "source": [
    "# creamos un filtro que establece los negativos a 0\n",
    "arr_2 = np.where(arr_1<0, 0, arr_1)\n",
    "\n",
    "arr_2"
   ]
  },
  {
   "cell_type": "code",
   "execution_count": 8,
   "id": "1262fd49",
   "metadata": {},
   "outputs": [
    {
     "data": {
      "text/plain": [
       "array([[0., 1.],\n",
       "       [1., 1.],\n",
       "       [1., 0.]])"
      ]
     },
     "execution_count": 8,
     "metadata": {},
     "output_type": "execute_result"
    }
   ],
   "source": [
    "# añadimos otro filtro que establece los positivos a 1\n",
    "arr_2 = np.where(arr_2>0, True, arr_2)\n",
    "\n",
    "arr_2"
   ]
  },
  {
   "cell_type": "markdown",
   "id": "c342cca9",
   "metadata": {},
   "source": [
    "## Filtros booleanos"
   ]
  },
  {
   "cell_type": "markdown",
   "id": "c52de20a",
   "metadata": {},
   "source": [
    "Permiten hacer comprobaciones lógicas en los arrays de booleanos:"
   ]
  },
  {
   "cell_type": "code",
   "execution_count": 9,
   "id": "e5fcb54d",
   "metadata": {},
   "outputs": [],
   "source": [
    "# definimos un array de booleanos\n",
    "arr_bool = np.array([True,True,True,False])"
   ]
  },
  {
   "cell_type": "code",
   "execution_count": 10,
   "id": "89bcd0c9",
   "metadata": {},
   "outputs": [
    {
     "data": {
      "text/plain": [
       "False"
      ]
     },
     "execution_count": 10,
     "metadata": {},
     "output_type": "execute_result"
    }
   ],
   "source": [
    "# comprobar si todos los elementos del array son True\n",
    "arr_bool.all()"
   ]
  },
  {
   "cell_type": "code",
   "execution_count": 11,
   "id": "e3b9c430",
   "metadata": {},
   "outputs": [
    {
     "data": {
      "text/plain": [
       "True"
      ]
     },
     "execution_count": 11,
     "metadata": {},
     "output_type": "execute_result"
    }
   ],
   "source": [
    "# comprobar si al menos un elementos del array es True\n",
    "arr_bool.any()"
   ]
  },
  {
   "cell_type": "markdown",
   "id": "457dfed1",
   "metadata": {},
   "source": [
    "También funciona con múltiples dimensiones pasando el eje:"
   ]
  },
  {
   "cell_type": "code",
   "execution_count": 12,
   "id": "10517f40",
   "metadata": {},
   "outputs": [
    {
     "data": {
      "text/plain": [
       "array([[False,  True],\n",
       "       [False,  True],\n",
       "       [False,  True]])"
      ]
     },
     "execution_count": 12,
     "metadata": {},
     "output_type": "execute_result"
    }
   ],
   "source": [
    "# definimos un array de booleanos 2d\n",
    "arr_bool_2d = np.array(\n",
    "    [\n",
    "        [False, True],\n",
    "        [False, True],\n",
    "        [False, True]\n",
    "    ]\n",
    ")\n",
    "\n",
    "arr_bool_2d"
   ]
  },
  {
   "cell_type": "code",
   "execution_count": 13,
   "id": "80507829",
   "metadata": {},
   "outputs": [
    {
     "data": {
      "text/plain": [
       "array([False,  True])"
      ]
     },
     "execution_count": 13,
     "metadata": {},
     "output_type": "execute_result"
    }
   ],
   "source": [
    "# comprobar si alguna de las columnas es todo True\n",
    "arr_bool_2d.all(0)"
   ]
  },
  {
   "cell_type": "code",
   "execution_count": 14,
   "id": "fddb3699",
   "metadata": {},
   "outputs": [
    {
     "data": {
      "text/plain": [
       "array([ True,  True,  True])"
      ]
     },
     "execution_count": 14,
     "metadata": {},
     "output_type": "execute_result"
    }
   ],
   "source": [
    "# comprobar si alguna de las filas tiene algún True\n",
    "arr_bool_2d.any(1)"
   ]
  },
  {
   "cell_type": "code",
   "execution_count": null,
   "id": "7302f376",
   "metadata": {},
   "outputs": [],
   "source": []
  }
 ],
 "metadata": {
  "kernelspec": {
   "display_name": "Python 3 (ipykernel)",
   "language": "python",
   "name": "python3"
  },
  "language_info": {
   "codemirror_mode": {
    "name": "ipython",
    "version": 3
   },
   "file_extension": ".py",
   "mimetype": "text/x-python",
   "name": "python",
   "nbconvert_exporter": "python",
   "pygments_lexer": "ipython3",
   "version": "3.10.5"
  }
 },
 "nbformat": 4,
 "nbformat_minor": 5
}
