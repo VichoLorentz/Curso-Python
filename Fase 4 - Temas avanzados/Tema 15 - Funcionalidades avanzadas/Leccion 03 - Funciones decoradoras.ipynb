{
 "cells": [
  {
   "cell_type": "markdown",
   "metadata": {},
   "source": [
    "# Ámbitos y funciones decoradoras"
   ]
  },
  {
   "cell_type": "markdown",
   "metadata": {},
   "source": [
    "#### NOTA: Antes de realizar esta lección debes reiniciar Jupyter Notebook para vaciar la memoria."
   ]
  },
  {
   "cell_type": "code",
   "execution_count": 3,
   "metadata": {},
   "outputs": [],
   "source": [
    "def hola():\n",
    "    def bienvenido():\n",
    "        return \"Hola!\"\n",
    "    return bienvenido"
   ]
  },
  {
   "cell_type": "code",
   "execution_count": 4,
   "metadata": {},
   "outputs": [
    {
     "ename": "NameError",
     "evalue": "name 'bienvenido' is not defined",
     "output_type": "error",
     "traceback": [
      "\u001b[1;31m---------------------------------------------------------------------------\u001b[0m",
      "\u001b[1;31mNameError\u001b[0m                                 Traceback (most recent call last)",
      "Input \u001b[1;32mIn [4]\u001b[0m, in \u001b[0;36m<cell line: 1>\u001b[1;34m()\u001b[0m\n\u001b[1;32m----> 1\u001b[0m \u001b[43mbienvenido\u001b[49m()\n",
      "\u001b[1;31mNameError\u001b[0m: name 'bienvenido' is not defined"
     ]
    }
   ],
   "source": [
    "bienvenido()"
   ]
  },
  {
   "cell_type": "code",
   "execution_count": 5,
   "metadata": {},
   "outputs": [
    {
     "data": {
      "text/plain": [
       "<function __main__.hola.<locals>.bienvenido()>"
      ]
     },
     "execution_count": 5,
     "metadata": {},
     "output_type": "execute_result"
    }
   ],
   "source": [
    "hola()"
   ]
  },
  {
   "cell_type": "code",
   "execution_count": 1,
   "metadata": {},
   "outputs": [
    {
     "name": "stdout",
     "output_type": "stream",
     "text": [
      "{'__name__': '__main__', '__doc__': 'Automatically created module for IPython interactive environment', '__package__': None, '__loader__': None, '__spec__': None, '__builtin__': <module 'builtins' (built-in)>, '__builtins__': <module 'builtins' (built-in)>, '_ih': ['', 'lista = [1,2,3\\n        ]\\ndef hola():\\n    \\n    numero = 50\\n    \\n    def bienvenido():\\n        return \"Hola!\"\\n    \\n    #print(locals())\\n    print(globals())\\n    return bienvenido\\nhola()'], '_oh': {}, '_dh': [WindowsPath('C:/CursoPython/Fase 4 - Temas avanzados/Tema 15 - Funcionalidades avanzadas')], 'In': ['', 'lista = [1,2,3\\n        ]\\ndef hola():\\n    \\n    numero = 50\\n    \\n    def bienvenido():\\n        return \"Hola!\"\\n    \\n    #print(locals())\\n    print(globals())\\n    return bienvenido\\nhola()'], 'Out': {}, 'get_ipython': <bound method InteractiveShell.get_ipython of <ipykernel.zmqshell.ZMQInteractiveShell object at 0x000001D02D76FE80>>, 'exit': <IPython.core.autocall.ZMQExitAutocall object at 0x000001D02D76CD30>, 'quit': <IPython.core.autocall.ZMQExitAutocall object at 0x000001D02D76CD30>, '_': '', '__': '', '___': '', '_i': '', '_ii': '', '_iii': '', '_i1': 'lista = [1,2,3\\n        ]\\ndef hola():\\n    \\n    numero = 50\\n    \\n    def bienvenido():\\n        return \"Hola!\"\\n    \\n    #print(locals())\\n    print(globals())\\n    return bienvenido\\nhola()', 'lista': [1, 2, 3], 'hola': <function hola at 0x000001D02D7FA5F0>}\n"
     ]
    },
    {
     "data": {
      "text/plain": [
       "<function __main__.hola.<locals>.bienvenido()>"
      ]
     },
     "execution_count": 1,
     "metadata": {},
     "output_type": "execute_result"
    }
   ],
   "source": [
    "lista = [1,2,3\n",
    "        ]\n",
    "def hola():\n",
    "    \n",
    "    numero = 50\n",
    "    \n",
    "    def bienvenido():\n",
    "        return \"Hola!\"\n",
    "    \n",
    "    #print(locals())\n",
    "    print(globals())\n",
    "    return bienvenido\n",
    "hola()"
   ]
  },
  {
   "cell_type": "code",
   "execution_count": 2,
   "metadata": {},
   "outputs": [
    {
     "data": {
      "text/plain": [
       "{'__name__': '__main__',\n",
       " '__doc__': 'Automatically created module for IPython interactive environment',\n",
       " '__package__': None,\n",
       " '__loader__': None,\n",
       " '__spec__': None,\n",
       " '__builtin__': <module 'builtins' (built-in)>,\n",
       " '__builtins__': <module 'builtins' (built-in)>,\n",
       " '_ih': ['',\n",
       "  'lista = [1,2,3\\n        ]\\ndef hola():\\n    \\n    numero = 50\\n    \\n    def bienvenido():\\n        return \"Hola!\"\\n    \\n    #print(locals())\\n    print(globals())\\n    return bienvenido\\nhola()',\n",
       "  'globals()'],\n",
       " '_oh': {1: <function __main__.hola.<locals>.bienvenido()>},\n",
       " '_dh': [WindowsPath('C:/CursoPython/Fase 4 - Temas avanzados/Tema 15 - Funcionalidades avanzadas')],\n",
       " 'In': ['',\n",
       "  'lista = [1,2,3\\n        ]\\ndef hola():\\n    \\n    numero = 50\\n    \\n    def bienvenido():\\n        return \"Hola!\"\\n    \\n    #print(locals())\\n    print(globals())\\n    return bienvenido\\nhola()',\n",
       "  'globals()'],\n",
       " 'Out': {1: <function __main__.hola.<locals>.bienvenido()>},\n",
       " 'get_ipython': <bound method InteractiveShell.get_ipython of <ipykernel.zmqshell.ZMQInteractiveShell object at 0x000001D02D76FE80>>,\n",
       " 'exit': <IPython.core.autocall.ZMQExitAutocall at 0x1d02d76cd30>,\n",
       " 'quit': <IPython.core.autocall.ZMQExitAutocall at 0x1d02d76cd30>,\n",
       " '_': <function __main__.hola.<locals>.bienvenido()>,\n",
       " '__': '',\n",
       " '___': '',\n",
       " '_i': 'lista = [1,2,3\\n        ]\\ndef hola():\\n    \\n    numero = 50\\n    \\n    def bienvenido():\\n        return \"Hola!\"\\n    \\n    #print(locals())\\n    print(globals())\\n    return bienvenido\\nhola()',\n",
       " '_ii': '',\n",
       " '_iii': '',\n",
       " '_i1': 'lista = [1,2,3\\n        ]\\ndef hola():\\n    \\n    numero = 50\\n    \\n    def bienvenido():\\n        return \"Hola!\"\\n    \\n    #print(locals())\\n    print(globals())\\n    return bienvenido\\nhola()',\n",
       " 'lista': [1, 2, 3],\n",
       " 'hola': <function __main__.hola()>,\n",
       " '_1': <function __main__.hola.<locals>.bienvenido()>,\n",
       " '_i2': 'globals()'}"
      ]
     },
     "execution_count": 2,
     "metadata": {},
     "output_type": "execute_result"
    }
   ],
   "source": [
    "globals()"
   ]
  },
  {
   "cell_type": "code",
   "execution_count": 4,
   "metadata": {},
   "outputs": [
    {
     "data": {
      "text/plain": [
       "dict_keys(['__name__', '__doc__', '__package__', '__loader__', '__spec__', '__builtin__', '__builtins__', '_ih', '_oh', '_dh', 'In', 'Out', 'get_ipython', 'exit', 'quit', '_', '__', '___', '_i', '_ii', '_iii', '_i1', 'lista', 'hola', '_1', '_i2', '_2', '_i3', '_3', '_i4'])"
      ]
     },
     "execution_count": 4,
     "metadata": {},
     "output_type": "execute_result"
    }
   ],
   "source": [
    "globals().keys()"
   ]
  },
  {
   "cell_type": "code",
   "execution_count": 5,
   "metadata": {},
   "outputs": [
    {
     "data": {
      "text/plain": [
       "[1, 2, 3]"
      ]
     },
     "execution_count": 5,
     "metadata": {},
     "output_type": "execute_result"
    }
   ],
   "source": [
    "globals()['lista']"
   ]
  },
  {
   "cell_type": "code",
   "execution_count": 6,
   "metadata": {},
   "outputs": [
    {
     "data": {
      "text/plain": [
       "[1, 2, 3]"
      ]
     },
     "execution_count": 6,
     "metadata": {},
     "output_type": "execute_result"
    }
   ],
   "source": [
    "lista"
   ]
  },
  {
   "cell_type": "code",
   "execution_count": 7,
   "metadata": {},
   "outputs": [
    {
     "data": {
      "text/plain": [
       "'Hola!'"
      ]
     },
     "execution_count": 7,
     "metadata": {},
     "output_type": "execute_result"
    }
   ],
   "source": [
    "def hola():\n",
    "    def bienvenido():\n",
    "        return \"Hola!\"\n",
    "    return bienvenido\n",
    "hola()()"
   ]
  },
  {
   "cell_type": "code",
   "execution_count": 8,
   "metadata": {},
   "outputs": [
    {
     "data": {
      "text/plain": [
       "'Hola!'"
      ]
     },
     "execution_count": 8,
     "metadata": {},
     "output_type": "execute_result"
    }
   ],
   "source": [
    "bienvenido = hola()\n",
    "bienvenido()"
   ]
  },
  {
   "cell_type": "code",
   "execution_count": 10,
   "metadata": {},
   "outputs": [],
   "source": [
    "del(hola)"
   ]
  },
  {
   "cell_type": "code",
   "execution_count": 11,
   "metadata": {},
   "outputs": [
    {
     "data": {
      "text/plain": [
       "'Hola!'"
      ]
     },
     "execution_count": 11,
     "metadata": {},
     "output_type": "execute_result"
    }
   ],
   "source": [
    "bienvenido()"
   ]
  },
  {
   "cell_type": "code",
   "execution_count": 12,
   "metadata": {},
   "outputs": [
    {
     "name": "stdout",
     "output_type": "stream",
     "text": [
      "Hola!\n"
     ]
    }
   ],
   "source": [
    "def hola():\n",
    "    return \"Hola!\"\n",
    "def test(funcion):\n",
    "    print(funcion())\n",
    "\n",
    "test(hola)"
   ]
  },
  {
   "cell_type": "code",
   "execution_count": 1,
   "metadata": {},
   "outputs": [],
   "source": [
    "def hola():\n",
    "    print(\"Hola!\")\n",
    "def adios():\n",
    "    print(\"Adios!\")"
   ]
  },
  {
   "cell_type": "code",
   "execution_count": 2,
   "metadata": {},
   "outputs": [],
   "source": [
    "def monitorizar(funcion):\n",
    "    \n",
    "    def decorar():\n",
    "        print(\"\\t Se esta apunto de ejecutar la funcion:\", funcion.__name__)\n",
    "        \n",
    "        funcion()\n",
    "        \n",
    "        print(\"\\t Se ha finalizado la ejecucion de la funcion:\", funcion.__name__)\n",
    "    return decorar"
   ]
  },
  {
   "cell_type": "code",
   "execution_count": 3,
   "metadata": {},
   "outputs": [
    {
     "name": "stdout",
     "output_type": "stream",
     "text": [
      "\t Se esta apunto de ejecutar la funcion: hola\n",
      "Hola!\n",
      "\t Se ha finalizado la ejecucion de la funcion: hola\n"
     ]
    }
   ],
   "source": [
    "monitorizar(hola)()"
   ]
  },
  {
   "cell_type": "code",
   "execution_count": 4,
   "metadata": {},
   "outputs": [
    {
     "name": "stdout",
     "output_type": "stream",
     "text": [
      "\t Se esta apunto de ejecutar la funcion: adios\n",
      "Adios!\n",
      "\t Se ha finalizado la ejecucion de la funcion: adios\n"
     ]
    }
   ],
   "source": [
    "monitorizar(adios)()"
   ]
  },
  {
   "cell_type": "code",
   "execution_count": 5,
   "metadata": {},
   "outputs": [],
   "source": [
    "@monitorizar\n",
    "def hola():\n",
    "    print(\"Hola!\")\n",
    "@monitorizar\n",
    "def adios():\n",
    "    print(\"Adios!\")"
   ]
  },
  {
   "cell_type": "code",
   "execution_count": 6,
   "metadata": {},
   "outputs": [
    {
     "name": "stdout",
     "output_type": "stream",
     "text": [
      "\t Se esta apunto de ejecutar la funcion: hola\n",
      "Hola!\n",
      "\t Se ha finalizado la ejecucion de la funcion: hola\n"
     ]
    }
   ],
   "source": [
    "hola()"
   ]
  },
  {
   "cell_type": "code",
   "execution_count": 7,
   "metadata": {},
   "outputs": [
    {
     "name": "stdout",
     "output_type": "stream",
     "text": [
      "\t Se esta apunto de ejecutar la funcion: adios\n",
      "Adios!\n",
      "\t Se ha finalizado la ejecucion de la funcion: adios\n"
     ]
    }
   ],
   "source": [
    "adios()"
   ]
  },
  {
   "cell_type": "code",
   "execution_count": 8,
   "metadata": {},
   "outputs": [],
   "source": [
    "@monitorizar\n",
    "def saludar():\n",
    "    print(\"Buenos dias\")"
   ]
  },
  {
   "cell_type": "code",
   "execution_count": 9,
   "metadata": {},
   "outputs": [
    {
     "name": "stdout",
     "output_type": "stream",
     "text": [
      "\t Se esta apunto de ejecutar la funcion: saludar\n",
      "Buenos dias\n",
      "\t Se ha finalizado la ejecucion de la funcion: saludar\n"
     ]
    }
   ],
   "source": [
    "saludar()"
   ]
  },
  {
   "cell_type": "code",
   "execution_count": 10,
   "metadata": {},
   "outputs": [
    {
     "ename": "TypeError",
     "evalue": "monitorizar.<locals>.decorar() takes 0 positional arguments but 1 was given",
     "output_type": "error",
     "traceback": [
      "\u001b[1;31m---------------------------------------------------------------------------\u001b[0m",
      "\u001b[1;31mTypeError\u001b[0m                                 Traceback (most recent call last)",
      "Input \u001b[1;32mIn [10]\u001b[0m, in \u001b[0;36m<cell line: 4>\u001b[1;34m()\u001b[0m\n\u001b[0;32m      1\u001b[0m \u001b[38;5;129m@monitorizar\u001b[39m\n\u001b[0;32m      2\u001b[0m \u001b[38;5;28;01mdef\u001b[39;00m \u001b[38;5;21msaludar\u001b[39m(texto):\n\u001b[0;32m      3\u001b[0m     \u001b[38;5;28mprint\u001b[39m(texto)\n\u001b[1;32m----> 4\u001b[0m \u001b[43msaludar\u001b[49m\u001b[43m(\u001b[49m\u001b[38;5;124;43m\"\u001b[39;49m\u001b[38;5;124;43mHola\u001b[39;49m\u001b[38;5;124;43m\"\u001b[39;49m\u001b[43m)\u001b[49m\n",
      "\u001b[1;31mTypeError\u001b[0m: monitorizar.<locals>.decorar() takes 0 positional arguments but 1 was given"
     ]
    }
   ],
   "source": [
    "@monitorizar\n",
    "def saludar(texto):\n",
    "    print(texto)\n",
    "saludar(\"Hola\")"
   ]
  },
  {
   "cell_type": "code",
   "execution_count": 12,
   "metadata": {},
   "outputs": [],
   "source": [
    "def monitorizar_args(funcion):\n",
    "    \n",
    "    def decorar(*args, **kwargs):\n",
    "        print(\"\\t Se esta apunto de ejecutar la funcion:\", funcion.__name__)\n",
    "        \n",
    "        funcion(*args, **kwargs)\n",
    "        \n",
    "        print(\"\\t Se ha finalizado la ejecucion de la funcion:\", funcion.__name__)\n",
    "    return decorar"
   ]
  },
  {
   "cell_type": "code",
   "execution_count": 13,
   "metadata": {},
   "outputs": [],
   "source": [
    "@monitorizar_args\n",
    "def hola(nombre):\n",
    "    print(f\"Hola {nombre}!\")\n",
    "@monitorizar_args\n",
    "def adios(nombre):\n",
    "    print(f\"Adios {nombre}!\")"
   ]
  },
  {
   "cell_type": "code",
   "execution_count": 14,
   "metadata": {},
   "outputs": [
    {
     "name": "stdout",
     "output_type": "stream",
     "text": [
      "\t Se esta apunto de ejecutar la funcion: hola\n",
      "Hola Vicente!\n",
      "\t Se ha finalizado la ejecucion de la funcion: hola\n"
     ]
    }
   ],
   "source": [
    "hola(\"Vicente\")"
   ]
  },
  {
   "cell_type": "code",
   "execution_count": 15,
   "metadata": {},
   "outputs": [
    {
     "name": "stdout",
     "output_type": "stream",
     "text": [
      "\t Se esta apunto de ejecutar la funcion: adios\n",
      "Adios Vicente!\n",
      "\t Se ha finalizado la ejecucion de la funcion: adios\n"
     ]
    }
   ],
   "source": [
    "adios(\"Vicente\")"
   ]
  },
  {
   "cell_type": "code",
   "execution_count": null,
   "metadata": {},
   "outputs": [],
   "source": []
  }
 ],
 "metadata": {
  "anaconda-cloud": {},
  "kernelspec": {
   "display_name": "Python 3 (ipykernel)",
   "language": "python",
   "name": "python3"
  },
  "language_info": {
   "codemirror_mode": {
    "name": "ipython",
    "version": 3
   },
   "file_extension": ".py",
   "mimetype": "text/x-python",
   "name": "python",
   "nbconvert_exporter": "python",
   "pygments_lexer": "ipython3",
   "version": "3.10.5"
  }
 },
 "nbformat": 4,
 "nbformat_minor": 1
}
