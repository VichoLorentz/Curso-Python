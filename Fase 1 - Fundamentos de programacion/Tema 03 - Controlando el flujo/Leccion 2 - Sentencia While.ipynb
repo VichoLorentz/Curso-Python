{
 "cells": [
  {
   "cell_type": "code",
   "execution_count": 1,
   "metadata": {},
   "outputs": [
    {
     "name": "stdout",
     "output_type": "stream",
     "text": [
      "c vale 1\n",
      "c vale 2\n",
      "c vale 3\n",
      "c vale 4\n",
      "c vale 5\n",
      "c vale 6\n"
     ]
    }
   ],
   "source": [
    "c = 0 \n",
    "while c <= 5:\n",
    "    c +=1\n",
    "    print (\"c vale\",  c)"
   ]
  },
  {
   "cell_type": "code",
   "execution_count": 3,
   "metadata": {},
   "outputs": [
    {
     "name": "stdout",
     "output_type": "stream",
     "text": [
      "c vale 1\n",
      "c vale 2\n",
      "c vale 3\n",
      "c vale 4\n",
      "c vale 5\n",
      "c vale 6\n",
      "Se ha completado toda la iteracion y c vale 6\n"
     ]
    }
   ],
   "source": [
    "c = 0 \n",
    "while c <= 5:\n",
    "    c +=1\n",
    "    print (\"c vale\",  c)\n",
    "else:\n",
    "    print (\"Se ha completado toda la iteracion y c vale\", c)"
   ]
  },
  {
   "cell_type": "code",
   "execution_count": 5,
   "metadata": {},
   "outputs": [
    {
     "name": "stdout",
     "output_type": "stream",
     "text": [
      "c vale 1\n",
      "c vale 2\n",
      "c vale 3\n",
      "Rompemos el bucle cuando c vale 4\n"
     ]
    }
   ],
   "source": [
    "c = 0 \n",
    "while c <= 5:\n",
    "    c +=1\n",
    "    if (c==4):\n",
    "        print (\"Rompemos el bucle cuando c vale\",c)\n",
    "        break\n",
    "    print (\"c vale\",  c)\n",
    "else:\n",
    "    print (\"Se ha completado toda la iteracion y c vale\", c)"
   ]
  },
  {
   "cell_type": "code",
   "execution_count": null,
   "metadata": {},
   "outputs": [],
   "source": [
    "c = 0 \n",
    "while c <= 5:\n",
    "    c +=1\n",
    "    if (c==4):\n",
    "        #print (\"continuamos con la siguiente iteracion\",c)\n",
    "        continue\n",
    "    print (\"c vale\",  c)\n",
    "else:\n",
    "    print (\"Se ha completado toda la iteracion y c vale\", c)"
   ]
  },
  {
   "cell_type": "code",
   "execution_count": null,
   "metadata": {},
   "outputs": [],
   "source": [
    "print(\"Bienvenido al menu interactivo\")\n",
    "while(True):\n",
    "    print(\"\"\"Que quieres hacer? Escribe una opcion\n",
    "    1) Saludar\n",
    "    2) Sumar dos numeros\n",
    "    3) Salir\"\"\")\n",
    "    opcion = input()\n",
    "    if opcion == \"1\":\n",
    "        print (\"Hola, espero que te lo estes pasando bien\")\n",
    "    elif opcion == \"2\" :\n",
    "        n1 = float(input(\"Introduce el primer numero:  \"))\n",
    "        n2 = float(input(\"Introduce el segundo numero:  \"))\n",
    "        print = (\"El resultadod de la suma es:  \", n1 + n2)\n",
    "    elif opcion == '3':\n",
    "        print (\"Hasta luego\")\n",
    "        break\n",
    "    else:\n",
    "        print (\"Comando desconocido, vuelve a intentarlo\")"
   ]
  },
  {
   "cell_type": "code",
   "execution_count": null,
   "metadata": {},
   "outputs": [
    {
     "name": "stdout",
     "output_type": "stream",
     "text": [
      "Bienvenido al menu\n",
      "¿Qué quieres hacer? Escribe una opción\n",
      "1) Saludar\n",
      "2) Sumar dos números\n",
      "3) Salir\n",
      "2\n",
      "Introducec el primer numero:  3\n",
      "Introducec el segundo numero:  2\n",
      "El resultado de la suma es:   5.0\n",
      "¿Qué quieres hacer? Escribe una opción\n",
      "1) Saludar\n",
      "2) Sumar dos números\n",
      "3) Salir\n"
     ]
    }
   ],
   "source": [
    "print(\"Bienvenido al menu\")\n",
    "while (True):\n",
    "    print(\"¿Qué quieres hacer? Escribe una opción\");\n",
    "    print(\"1) Saludar\");\n",
    "    print(\"2) Sumar dos números\");\n",
    "    print(\"3) Salir\");\n",
    "    opcion = input()\n",
    "    if opcion == '1':\n",
    "        print (\"Hola, espero que lo estes pasando bien\")\n",
    "    elif opcion == '2':\n",
    "        n1 = float(input(\"Introducec el primer numero:  \"))\n",
    "        n2 = float(input(\"Introducec el segundo numero:  \"))\n",
    "        print(\"El resultado de la suma es:  \",n1+n2)\n",
    "    elif opcion == '3':\n",
    "        print (\"Hasta luego\")\n",
    "        break\n",
    "    else: \n",
    "        print(\"Comando desconocido, vuelve a intentarlo\")"
   ]
  },
  {
   "cell_type": "code",
   "execution_count": null,
   "metadata": {},
   "outputs": [],
   "source": [
    "print(\"Bienvenido al menu interactivo\")\n",
    "while(True):\n",
    "    print(\"\"\"Que quieres hacer? Escribe una opcion\n",
    "    1) Saludar\n",
    "    2) Sumar dos numeros\n",
    "    3) Salir\"\"\")\n",
    "    opcion = input()\n",
    "    if opcion == \"1\":\n",
    "        print (\"Hola, espero que te lo estes pasando bien\")\n",
    "    elif opcion == \"2\" :\n",
    "        n1 = float(input(\"Introduce el primer numero:  \"))\n",
    "        n2 = float(input(\"Introduce el segundo numero:  \"))\n",
    "        print = (\"El resultadod de la suma es:  \", n1 + n2)\n",
    "    elif opcion == '3':\n",
    "        print (\"Hasta luego\")\n",
    "        break\n",
    "    else:\n",
    "        print (\"Comando desconocido, vuelve a intentarlo\")"
   ]
  },
  {
   "cell_type": "code",
   "execution_count": 3,
   "metadata": {},
   "outputs": [
    {
     "name": "stdout",
     "output_type": "stream",
     "text": [
      "Introduce un numero:  1\n",
      "El numero ingresado   1   no es multiplo de 5\n",
      "Introduce un numero:  2\n",
      "El numero ingresado   2   no es multiplo de 5\n",
      "Introduce un numero:  3\n",
      "El numero ingresado   3   no es multiplo de 5\n",
      "Introduce un numero:  4\n",
      "El numero ingresado   4   no es multiplo de 5\n",
      "Introduce un numero:  25\n",
      "El numero ingresado es multiplo de 5\n"
     ]
    }
   ],
   "source": [
    "\n",
    "while (True):\n",
    "    numero = int(input(\"Introduce un numero:  \"))\n",
    "    if numero % 5 != 0:\n",
    "        print (\"El numero ingresado\", \" \", numero, \" \", \"no es multiplo de 5\")\n",
    "    else:\n",
    "        print (\"El numero ingresado es multiplo de 5\")\n",
    "        break\n",
    "    "
   ]
  }
 ],
 "metadata": {
  "kernelspec": {
   "display_name": "Python 3 (ipykernel)",
   "language": "python",
   "name": "python3"
  },
  "language_info": {
   "codemirror_mode": {
    "name": "ipython",
    "version": 3
   },
   "file_extension": ".py",
   "mimetype": "text/x-python",
   "name": "python",
   "nbconvert_exporter": "python",
   "pygments_lexer": "ipython3",
   "version": "3.9.5"
  }
 },
 "nbformat": 4,
 "nbformat_minor": 1
}
