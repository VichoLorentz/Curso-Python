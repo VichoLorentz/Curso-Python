{
 "cells": [
  {
   "cell_type": "markdown",
   "metadata": {},
   "source": [
    "### if not False:\n",
    "    print(\"Se cumple la condición\")\n",
    "    print(\"También se muestra este print\")"
   ]
  },
  {
   "cell_type": "code",
   "execution_count": 5,
   "metadata": {},
   "outputs": [
    {
     "name": "stdout",
     "output_type": "stream",
     "text": [
      "a vale 5\n"
     ]
    }
   ],
   "source": [
    "a = 5\n",
    "if a == 2:\n",
    "    print (\"a vale 2\")\n",
    "if a == 5: \n",
    "    print (\"a vale 5\")"
   ]
  },
  {
   "cell_type": "code",
   "execution_count": 7,
   "metadata": {},
   "outputs": [
    {
     "name": "stdout",
     "output_type": "stream",
     "text": [
      "a vale 5\n",
      "y b vale 10\n"
     ]
    }
   ],
   "source": [
    "a = 5\n",
    "b = 10\n",
    "if a == 5:\n",
    "    print(\"a vale\",a)\n",
    "    if b == 10:\n",
    "        print(\"y b vale\", b)"
   ]
  },
  {
   "cell_type": "code",
   "execution_count": 8,
   "metadata": {},
   "outputs": [
    {
     "name": "stdout",
     "output_type": "stream",
     "text": [
      "a vale 5 y b vale 10\n"
     ]
    }
   ],
   "source": [
    "if a == 5 and b == 10:\n",
    "    print (\"a vale 5 y b vale 10\")"
   ]
  },
  {
   "cell_type": "code",
   "execution_count": 10,
   "metadata": {},
   "outputs": [
    {
     "name": "stdout",
     "output_type": "stream",
     "text": [
      "11 es un número impar\n"
     ]
    }
   ],
   "source": [
    "n = 11\n",
    "if n % 2 == 0:\n",
    "    print (n,\"es un número par\")\n",
    "else: \n",
    "    print (n, \"es un número impar\")"
   ]
  },
  {
   "cell_type": "code",
   "execution_count": 12,
   "metadata": {},
   "outputs": [
    {
     "name": "stdout",
     "output_type": "stream",
     "text": [
      "Saliendo del sistema\n"
     ]
    }
   ],
   "source": [
    "comando = \"SALIR\"\n",
    "if comando == \"ENTRAR\":\n",
    "    print (\"Bienvenido al sistema\")\n",
    "elif comando == \"SALUDAR\":\n",
    "    print (\"Hola, espero que te lo estés pasando bien aprendiendo python\")\n",
    "elif comando == \"SALIR\" :\n",
    "    print (\"Saliendo del sistema\")\n",
    "else: \n",
    "    print(\"Este comando no se reconoce\")"
   ]
  },
  {
   "cell_type": "code",
   "execution_count": 13,
   "metadata": {},
   "outputs": [
    {
     "name": "stdout",
     "output_type": "stream",
     "text": [
      "Introduce una nota:  5\n",
      "Sufieciente\n"
     ]
    }
   ],
   "source": [
    "nota = float(input(\"Introduce una nota:  \"))\n",
    "if nota >= 9:\n",
    "    print(\"Sobresaliente\")\n",
    "elif nota >=7:\n",
    "    print (\"Notable\")\n",
    "elif nota >=6:\n",
    "    print (\"Bien\")\n",
    "elif nota >=5:\n",
    "    print (\"Sufieciente\")\n",
    "else:\n",
    "    print (\"Insuficiente\")"
   ]
  },
  {
   "cell_type": "code",
   "execution_count": 15,
   "metadata": {},
   "outputs": [
    {
     "name": "stdout",
     "output_type": "stream",
     "text": [
      "Introduce una nota:  10\n",
      "Sobresaliente\n",
      "Notable\n",
      "Bien\n",
      "Sufieciente\n"
     ]
    }
   ],
   "source": [
    "nota = float(input(\"Introduce una nota:  \"))\n",
    "if nota >= 9:\n",
    "    print(\"Sobresaliente\")\n",
    "if nota >=7:\n",
    "    print (\"Notable\")\n",
    "if nota >=6:\n",
    "    print (\"Bien\")\n",
    "if nota >=5:\n",
    "    print (\"Sufieciente\")\n",
    "if nota <5:\n",
    "    print (\"Insuficiente\")"
   ]
  },
  {
   "cell_type": "code",
   "execution_count": 16,
   "metadata": {},
   "outputs": [],
   "source": [
    "if True:\n",
    "    pass"
   ]
  }
 ],
 "metadata": {
  "kernelspec": {
   "display_name": "Python 3 (ipykernel)",
   "language": "python",
   "name": "python3"
  },
  "language_info": {
   "codemirror_mode": {
    "name": "ipython",
    "version": 3
   },
   "file_extension": ".py",
   "mimetype": "text/x-python",
   "name": "python",
   "nbconvert_exporter": "python",
   "pygments_lexer": "ipython3",
   "version": "3.9.5"
  }
 },
 "nbformat": 4,
 "nbformat_minor": 1
}
