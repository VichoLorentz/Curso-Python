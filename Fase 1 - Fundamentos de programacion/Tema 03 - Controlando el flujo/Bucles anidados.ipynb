{
 "cells": [
  {
   "cell_type": "code",
   "execution_count": 1,
   "id": "1caf3079",
   "metadata": {},
   "outputs": [],
   "source": [
    "lista = [\"Hola\", 10, \"Adios\",[50,100,150]]"
   ]
  },
  {
   "cell_type": "code",
   "execution_count": 2,
   "id": "56f00ffb",
   "metadata": {},
   "outputs": [
    {
     "data": {
      "text/plain": [
       "[50, 100, 150]"
      ]
     },
     "execution_count": 2,
     "metadata": {},
     "output_type": "execute_result"
    }
   ],
   "source": [
    "lista[-1]"
   ]
  },
  {
   "cell_type": "code",
   "execution_count": 3,
   "id": "d38fa3d5",
   "metadata": {},
   "outputs": [
    {
     "data": {
      "text/plain": [
       "50"
      ]
     },
     "execution_count": 3,
     "metadata": {},
     "output_type": "execute_result"
    }
   ],
   "source": [
    "lista[-1][0]"
   ]
  },
  {
   "cell_type": "code",
   "execution_count": 4,
   "id": "bf7bfc5a",
   "metadata": {},
   "outputs": [
    {
     "data": {
      "text/plain": [
       "150"
      ]
     },
     "execution_count": 4,
     "metadata": {},
     "output_type": "execute_result"
    }
   ],
   "source": [
    "lista[-1][-1]"
   ]
  },
  {
   "cell_type": "code",
   "execution_count": 5,
   "id": "ad03a5e7",
   "metadata": {},
   "outputs": [
    {
     "name": "stdout",
     "output_type": "stream",
     "text": [
      "50\n",
      "100\n",
      "150\n"
     ]
    }
   ],
   "source": [
    "for numero in lista[-1]:\n",
    "    print(numero)"
   ]
  },
  {
   "cell_type": "code",
   "execution_count": 6,
   "id": "bb9b950b",
   "metadata": {},
   "outputs": [],
   "source": [
    "lista = [\n",
    "    \"Esto es un texto\",\n",
    "    (1, 5, 10, 15, 20, 25),\n",
    "    [\"Azul\", \"Verde\", \"Amarillo\"]\n",
    "]"
   ]
  },
  {
   "cell_type": "code",
   "execution_count": 7,
   "id": "79e53aec",
   "metadata": {},
   "outputs": [
    {
     "name": "stdout",
     "output_type": "stream",
     "text": [
      "Esto es un texto\n",
      "(1, 5, 10, 15, 20, 25)\n",
      "['Azul', 'Verde', 'Amarillo']\n"
     ]
    }
   ],
   "source": [
    "for coleccion in lista:\n",
    "    print(coleccion)"
   ]
  },
  {
   "cell_type": "code",
   "execution_count": 8,
   "id": "66adad6c",
   "metadata": {},
   "outputs": [
    {
     "name": "stdout",
     "output_type": "stream",
     "text": [
      "Esto es un texto -> E\n",
      "Esto es un texto -> s\n",
      "Esto es un texto -> t\n",
      "Esto es un texto -> o\n",
      "Esto es un texto ->  \n",
      "Esto es un texto -> e\n",
      "Esto es un texto -> s\n",
      "Esto es un texto ->  \n",
      "Esto es un texto -> u\n",
      "Esto es un texto -> n\n",
      "Esto es un texto ->  \n",
      "Esto es un texto -> t\n",
      "Esto es un texto -> e\n",
      "Esto es un texto -> x\n",
      "Esto es un texto -> t\n",
      "Esto es un texto -> o\n",
      "(1, 5, 10, 15, 20, 25) -> 1\n",
      "(1, 5, 10, 15, 20, 25) -> 5\n",
      "(1, 5, 10, 15, 20, 25) -> 10\n",
      "(1, 5, 10, 15, 20, 25) -> 15\n",
      "(1, 5, 10, 15, 20, 25) -> 20\n",
      "(1, 5, 10, 15, 20, 25) -> 25\n",
      "['Azul', 'Verde', 'Amarillo'] -> Azul\n",
      "['Azul', 'Verde', 'Amarillo'] -> Verde\n",
      "['Azul', 'Verde', 'Amarillo'] -> Amarillo\n"
     ]
    }
   ],
   "source": [
    "for coleccion in lista:\n",
    "    for elemento in coleccion:\n",
    "        print(coleccion, \"->\", elemento)"
   ]
  },
  {
   "cell_type": "code",
   "execution_count": 11,
   "id": "b3131b88",
   "metadata": {},
   "outputs": [
    {
     "name": "stdout",
     "output_type": "stream",
     "text": [
      "Esto es un texto -> E\n",
      "Esto es un texto -> s\n",
      "Esto es un texto -> t\n",
      "Esto es un texto -> o\n",
      "Esto es un texto ->  \n",
      "Esto es un texto -> e\n",
      "Esto es un texto -> s\n",
      "Esto es un texto ->  \n",
      "Esto es un texto -> u\n",
      "Esto es un texto -> n\n",
      "Esto es un texto ->  \n",
      "Esto es un texto -> t\n",
      "Esto es un texto -> e\n",
      "Esto es un texto -> x\n",
      "Esto es un texto -> t\n",
      "Esto es un texto -> o\n",
      "(1, 5, 10, 15, 20, 25) -> 1\n",
      "(1, 5, 10, 15, 20, 25) -> 5\n",
      "(1, 5, 10, 15, 20, 25) -> 10\n",
      "(1, 5, 10, 15, 20, 25) -> 15\n",
      "(1, 5, 10, 15, 20, 25) -> 20\n",
      "(1, 5, 10, 15, 20, 25) -> 25\n",
      "['Azul', 'Verde', 'Amarillo'] -> Azul\n",
      "['Azul', 'Verde', 'Amarillo'] -> Verde\n",
      "['Azul', 'Verde', 'Amarillo'] -> Amarillo\n"
     ]
    }
   ],
   "source": [
    "for indice_coleccion, coleccion in enumerate(lista):\n",
    "    for indice_elemento, elemento in enumerate(coleccion):\n",
    "        print(coleccion, \"->\", elemento)"
   ]
  },
  {
   "cell_type": "code",
   "execution_count": 12,
   "id": "e150c585",
   "metadata": {},
   "outputs": [
    {
     "name": "stdout",
     "output_type": "stream",
     "text": [
      "E\n",
      "s\n",
      "t\n",
      "o\n",
      " \n",
      "e\n",
      "s\n",
      " \n",
      "u\n",
      "n\n",
      " \n",
      "t\n",
      "e\n",
      "x\n",
      "t\n",
      "o\n",
      "1\n",
      "5\n",
      "10\n",
      "15\n",
      "20\n",
      "25\n",
      "Azul\n",
      "Verde\n",
      "Amarillo\n"
     ]
    }
   ],
   "source": [
    "for indice_coleccion, coleccion in enumerate(lista):\n",
    "    for indice_elemento, elemento in enumerate(coleccion):\n",
    "        print(lista[indice_coleccion][indice_elemento])"
   ]
  },
  {
   "cell_type": "code",
   "execution_count": 13,
   "id": "ffe64b9f",
   "metadata": {},
   "outputs": [],
   "source": [
    "tabla = [\n",
    "    [0,0,0],\n",
    "    [1,1,1],\n",
    "    [2,2,2]\n",
    "]"
   ]
  },
  {
   "cell_type": "code",
   "execution_count": 14,
   "id": "78da9de3",
   "metadata": {},
   "outputs": [
    {
     "name": "stdout",
     "output_type": "stream",
     "text": [
      "[0, 0, 0]\n",
      "[1, 1, 1]\n",
      "[2, 2, 2]\n"
     ]
    }
   ],
   "source": [
    "for fila in tabla:\n",
    "    print(fila)"
   ]
  },
  {
   "cell_type": "code",
   "execution_count": 17,
   "id": "04e6d054",
   "metadata": {},
   "outputs": [
    {
     "name": "stdout",
     "output_type": "stream",
     "text": [
      "0\n",
      "0\n",
      "0\n",
      "1\n",
      "1\n",
      "1\n",
      "2\n",
      "2\n",
      "2\n"
     ]
    }
   ],
   "source": [
    "for fila in tabla:\n",
    "    for columna in fila:\n",
    "        print (columna)"
   ]
  },
  {
   "cell_type": "code",
   "execution_count": 18,
   "id": "f16667bb",
   "metadata": {},
   "outputs": [
    {
     "name": "stdout",
     "output_type": "stream",
     "text": [
      "0 0 0 1 1 1 2 2 2 "
     ]
    }
   ],
   "source": [
    "for fila in tabla:\n",
    "    for columna in fila:\n",
    "        print (columna, end=\" \")"
   ]
  },
  {
   "cell_type": "code",
   "execution_count": 19,
   "id": "152f8268",
   "metadata": {},
   "outputs": [
    {
     "name": "stdout",
     "output_type": "stream",
     "text": [
      "0 0 0 \n",
      "1 1 1 \n",
      "2 2 2 \n"
     ]
    }
   ],
   "source": [
    "for fila in tabla:\n",
    "    for columna in fila:\n",
    "        print (columna, end=\" \")\n",
    "    print()"
   ]
  },
  {
   "cell_type": "code",
   "execution_count": 22,
   "id": "a251ff3f",
   "metadata": {},
   "outputs": [
    {
     "name": "stdout",
     "output_type": "stream",
     "text": [
      "0 0 0 \n",
      "1 1 1 \n",
      "2 2 2 \n"
     ]
    }
   ],
   "source": [
    "for i,fila in enumerate(tabla):\n",
    "    for j,columna in enumerate(fila):\n",
    "        print (tabla[i][j], end=\" \")\n",
    "    print()"
   ]
  },
  {
   "cell_type": "code",
   "execution_count": 23,
   "id": "a397453c",
   "metadata": {},
   "outputs": [],
   "source": [
    "tabla = [\n",
    "    [0,0,0],\n",
    "    [1,1,1],\n",
    "    [2,2,2]\n",
    "]\n",
    "\n",
    "cubo =[\n",
    "    tabla, tabla, tabla\n",
    "]"
   ]
  },
  {
   "cell_type": "code",
   "execution_count": 24,
   "id": "985d0d9b",
   "metadata": {},
   "outputs": [
    {
     "name": "stdout",
     "output_type": "stream",
     "text": [
      "0\n"
     ]
    }
   ],
   "source": [
    "print(cubo[0][0][0])"
   ]
  },
  {
   "cell_type": "code",
   "execution_count": 25,
   "id": "3fa7144c",
   "metadata": {},
   "outputs": [
    {
     "name": "stdout",
     "output_type": "stream",
     "text": [
      "1\n"
     ]
    }
   ],
   "source": [
    "print(cubo[2][1][2])"
   ]
  },
  {
   "cell_type": "code",
   "execution_count": 26,
   "id": "54cab4a2",
   "metadata": {},
   "outputs": [
    {
     "name": "stdout",
     "output_type": "stream",
     "text": [
      "2\n",
      "2\n",
      "2\n",
      "2\n",
      "2\n",
      "2\n",
      "2\n",
      "2\n",
      "2\n",
      "2\n",
      "2\n",
      "2\n",
      "2\n",
      "2\n",
      "2\n",
      "2\n",
      "2\n",
      "2\n",
      "2\n",
      "2\n",
      "2\n",
      "2\n",
      "2\n",
      "2\n",
      "2\n",
      "2\n",
      "2\n"
     ]
    }
   ],
   "source": [
    "for tabla in cubo:\n",
    "    for fila in tabla:\n",
    "        for culumna in fila:\n",
    "            print(columna)"
   ]
  },
  {
   "cell_type": "code",
   "execution_count": 31,
   "id": "1b241dea",
   "metadata": {},
   "outputs": [
    {
     "name": "stdout",
     "output_type": "stream",
     "text": [
      "0 0 0 \n",
      "1 1 1 \n",
      "2 2 2 \n",
      "\n",
      "0 0 0 \n",
      "1 1 1 \n",
      "2 2 2 \n",
      "\n",
      "0 0 0 \n",
      "1 1 1 \n",
      "2 2 2 \n",
      "\n"
     ]
    }
   ],
   "source": [
    "for k, tabla in enumerate(cubo):\n",
    "    for i, fila in enumerate(tabla):\n",
    "        for j, culumna in enumerate(fila):\n",
    "            print(cubo[k][i][j], end=\" \")\n",
    "        print()\n",
    "    print()"
   ]
  },
  {
   "cell_type": "code",
   "execution_count": null,
   "id": "02c026b0",
   "metadata": {},
   "outputs": [],
   "source": []
  }
 ],
 "metadata": {
  "kernelspec": {
   "display_name": "Python 3 (ipykernel)",
   "language": "python",
   "name": "python3"
  },
  "language_info": {
   "codemirror_mode": {
    "name": "ipython",
    "version": 3
   },
   "file_extension": ".py",
   "mimetype": "text/x-python",
   "name": "python",
   "nbconvert_exporter": "python",
   "pygments_lexer": "ipython3",
   "version": "3.10.5"
  }
 },
 "nbformat": 4,
 "nbformat_minor": 5
}
