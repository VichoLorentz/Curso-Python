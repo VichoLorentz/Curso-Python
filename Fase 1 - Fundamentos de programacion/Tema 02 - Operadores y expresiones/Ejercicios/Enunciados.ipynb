{
 "cells": [
  {
   "cell_type": "markdown",
   "metadata": {},
   "source": [
    "# Tema 02: Operadores y expresiones (Enunciados)\n",
    "*Nota: Estos ejercicios son optativos para hacer al final de la unidad y están pensados para apoyar tu aprendizaje*."
   ]
  },
  {
   "cell_type": "markdown",
   "metadata": {},
   "source": [
    "**1) Realiza un programa que lea 2 números por teclado y determine los siguientes aspectos (es suficiene con mostrar True o False):**\n",
    "* Si los dos números son iguales\n",
    "* Si los dos números son diferentes\n",
    "* Si el primero es mayor que el segundo\n",
    "* Si el segundo es mayor o igual que el primero"
   ]
  },
  {
   "cell_type": "code",
   "execution_count": 1,
   "metadata": {},
   "outputs": [
    {
     "name": "stdout",
     "output_type": "stream",
     "text": [
      "Ingrese el primero numero:  1\n",
      "Ingrese el segundo numero:  2\n",
      "Los numeros son iguales? False\n",
      "Los numeros son diferentes? True\n",
      "El primero es mayor que el segundo? False\n",
      "El segundo es mayor o igual que el primero? True\n"
     ]
    }
   ],
   "source": [
    "# Completa el ejercicio aquí\n",
    "n1 = float(input('Ingrese el primero numero:  '))\n",
    "n2 = float(input('Ingrese el segundo numero:  '))\n",
    "\n",
    "print (\"Los numeros son iguales?\", n1 == n2)\n",
    "print (\"Los numeros son diferentes?\", n1 != n2)\n",
    "print (\"El primero es mayor que el segundo?\", n1 > n2)\n",
    "print (\"El segundo es mayor o igual que el primero?\", n2 >= n1)"
   ]
  },
  {
   "cell_type": "markdown",
   "metadata": {},
   "source": [
    "**2) Utilizando operadores lógicos, determina si una cadena de texto introducida por el usuario tiene una longitud mayor o igual que 3 y a su vez es menor que 10 (es suficiene con mostrar True o False):**"
   ]
  },
  {
   "cell_type": "code",
   "execution_count": 4,
   "metadata": {},
   "outputs": [
    {
     "name": "stdout",
     "output_type": "stream",
     "text": [
      "Introduce una palabra:  HOLAAAAAAAAAAAAAAA\n",
      "La longitud de la cadena es mayor o igual que 3 y menor que 10? False\n"
     ]
    }
   ],
   "source": [
    "# Completa el ejercicio aquí\n",
    "a = str(input(\"Introduce una palabra:  \"))\n",
    "condiciones = len(a) >= 3 and len(a) <10\n",
    "print(\"La longitud de la cadena es mayor o igual que 3 y menor que 10?\", condiciones)"
   ]
  },
  {
   "cell_type": "markdown",
   "metadata": {},
   "source": [
    "**3) Realiza un programa que cumpla el siguiente algoritmo utilizando siempre que sea posible operadores en asignación:**\n",
    "* Guarda en una variable numero_magico el valor 12345679 (sin el 8)\n",
    "* Lee por pantalla otro numero_usuario, especifica que sea entre 1 y 9 (asegúrate que es un número)\n",
    "* Multiplica el numero_usuario por 9 en sí mismo\n",
    "* Multiplica el numero_magico por el numero_usuario en sí mismo\n",
    "* Finalmente muestra el valor final del numero_magico por pantalla\n"
   ]
  },
  {
   "cell_type": "code",
   "execution_count": 9,
   "metadata": {},
   "outputs": [
    {
     "name": "stdout",
     "output_type": "stream",
     "text": [
      "Ingrese un numero entre el 1 y el 9:  55\n",
      "El numero magico es:   6111111105\n"
     ]
    }
   ],
   "source": [
    "# Completa el ejercicio aquí\n",
    "\n",
    "numero_magico = 12345679\n",
    "numero_usuario = int(input(\"Ingrese un numero entre el 1 y el 9:  \"))\n",
    "numero_usuario *=9\n",
    "numero_magico *= numero_usuario\n",
    "print(\"El numero magico es:  \", numero_magico)"
   ]
  }
 ],
 "metadata": {
  "anaconda-cloud": {},
  "kernelspec": {
   "display_name": "Python 3 (ipykernel)",
   "language": "python",
   "name": "python3"
  },
  "language_info": {
   "codemirror_mode": {
    "name": "ipython",
    "version": 3
   },
   "file_extension": ".py",
   "mimetype": "text/x-python",
   "name": "python",
   "nbconvert_exporter": "python",
   "pygments_lexer": "ipython3",
   "version": "3.9.5"
  }
 },
 "nbformat": 4,
 "nbformat_minor": 1
}
